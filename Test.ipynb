{
 "cells": [
  {
   "cell_type": "markdown",
   "id": "ae34b575-7b23-4c3b-8f81-0e9dc6f5b6d8",
   "metadata": {},
   "source": [
    " # My Jupyter Notebook on IBM Watson Studio"
   ]
  },
  {
   "cell_type": "markdown",
   "id": "3ed75d72-c746-4029-b9fc-4779011dbb70",
   "metadata": {},
   "source": [
    "Michael Stroganov"
   ]
  },
  {
   "cell_type": "markdown",
   "id": "c1d2d283-5450-4d21-9268-cbca22d0ec65",
   "metadata": {},
   "source": [
    "Marketing Analyst"
   ]
  },
  {
   "cell_type": "markdown",
   "id": "45ff5d44-44c7-4f8c-9e42-56935701d2ac",
   "metadata": {},
   "source": [
    "*I really enjoy working with data as far as it gives us an opportunity to understand the essence of this or that processes.*"
   ]
  },
  {
   "cell_type": "markdown",
   "id": "2c7def8e-e70e-4fcd-8e61-32797b2814b0",
   "metadata": {},
   "source": [
    "### The code in line 5 is supposed to output the text \"Hello world\""
   ]
  },
  {
   "cell_type": "code",
   "execution_count": 1,
   "id": "86568f60-e0bb-4481-a634-41eb9904ddb0",
   "metadata": {},
   "outputs": [
    {
     "name": "stdout",
     "output_type": "stream",
     "text": [
      "Hello world\n"
     ]
    }
   ],
   "source": [
    "print(\"Hello world\")"
   ]
  },
  {
   "cell_type": "markdown",
   "id": "dfea28a3-abf5-4f64-b026-c386e86f472a",
   "metadata": {},
   "source": [
    "- Summer\n",
    "- Autumn\n",
    "- Winter\n",
    "- Spring"
   ]
  },
  {
   "cell_type": "markdown",
   "id": "67ba244a-4187-43b9-986f-f3003d6d1b3c",
   "metadata": {},
   "source": [
    "1. Dog\n",
    "2. Cat\n",
    "3. Fish"
   ]
  },
  {
   "cell_type": "markdown",
   "id": "ac808dc6-fab9-41b4-850e-d9b080139a83",
   "metadata": {},
   "source": [
    "I love [McDonald's](https://www.mcdonalds.com/)"
   ]
  },
  {
   "cell_type": "code",
   "execution_count": null,
   "id": "f19d4f78-e7d8-4822-906e-6b4a2a5a26e6",
   "metadata": {},
   "outputs": [],
   "source": []
  }
 ],
 "metadata": {
  "kernelspec": {
   "display_name": "Python",
   "language": "python",
   "name": "conda-env-python-py"
  },
  "language_info": {
   "codemirror_mode": {
    "name": "ipython",
    "version": 3
   },
   "file_extension": ".py",
   "mimetype": "text/x-python",
   "name": "python",
   "nbconvert_exporter": "python",
   "pygments_lexer": "ipython3",
   "version": "3.7.12"
  }
 },
 "nbformat": 4,
 "nbformat_minor": 5
}
